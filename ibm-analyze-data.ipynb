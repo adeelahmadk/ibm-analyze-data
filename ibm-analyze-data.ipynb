{
 "cells": [
  {
   "cell_type": "markdown",
   "id": "df8bfaae-ba65-425e-a6cf-9c90747f462e",
   "metadata": {},
   "source": [
    "# Analyzing data with Python\n"
   ]
  },
  {
   "cell_type": "code",
   "execution_count": 1,
   "id": "28c4ff1f-20d9-44db-9939-2c74b093285d",
   "metadata": {},
   "outputs": [],
   "source": [
    "import pandas as pd\n",
    "#import numpy as np\n",
    "from tqdm import tqdm"
   ]
  },
  {
   "cell_type": "markdown",
   "id": "b04be64b-7f90-42c3-b3ca-0b4a3a07615d",
   "metadata": {},
   "source": [
    "## Downloading Dataset\n",
    "\n",
    "Frequently used datasets are hosted by university research centers, companies, data science platforms, etc. These datasets are mostly publically accessible. Python has a variety of methods to download files avialable on internet."
   ]
  },
  {
   "cell_type": "markdown",
   "id": "334b3c46-6637-401e-bd64-8df168d040b2",
   "metadata": {},
   "source": [
    "### UC Irvine Dataset Archive\n",
    "\n",
    "A large collection of educational datasets are hosted by [UC Irvine Machine Learning repository](https://archive.ics.uci.edu/datasets). They provide a pypi package `ucimlrepo` to pull the datasets hosted by them."
   ]
  },
  {
   "cell_type": "code",
   "execution_count": 2,
   "id": "6cd4cc92-9401-4105-b376-5c84b15d1f24",
   "metadata": {},
   "outputs": [
    {
     "name": "stdout",
     "output_type": "stream",
     "text": [
      "Collecting ucimlrepo\n",
      "  Downloading ucimlrepo-0.0.3-py3-none-any.whl (7.0 kB)\n",
      "Installing collected packages: ucimlrepo\n",
      "Successfully installed ucimlrepo-0.0.3\n",
      "\u001b[33mWARNING: You are using pip version 21.2.4; however, version 23.3 is available.\n",
      "You should consider upgrading via the '/data/user/0/ru.iiec.pydroid3/files/aarch64-linux-android/bin/python3.9 -m pip install --upgrade pip' command.\u001b[0m\n",
      "Note: you may need to restart the kernel to use updated packages.\n"
     ]
    }
   ],
   "source": [
    "%pip install ucimlrepo"
   ]
  },
  {
   "cell_type": "code",
   "execution_count": 5,
   "id": "59e3d645-a55c-4f32-8782-63909ced0f8f",
   "metadata": {},
   "outputs": [
    {
     "name": "stdout",
     "output_type": "stream",
     "text": [
      "{'uci_id': 10, 'name': 'Automobile', 'repository_url': 'https://archive.ics.uci.edu/dataset/10/automobile', 'data_url': 'https://archive.ics.uci.edu/static/public/10/data.csv', 'abstract': \"From 1985 Ward's Automotive Yearbook\", 'area': 'Other', 'tasks': ['Regression'], 'characteristics': ['Multivariate'], 'num_instances': 205, 'num_features': 25, 'feature_types': ['Categorical', 'Integer', 'Real'], 'demographics': [], 'target_col': ['symboling'], 'index_col': None, 'has_missing_values': 'yes', 'missing_values_symbol': 'NaN', 'year_of_dataset_creation': 1985, 'last_updated': 'Thu Aug 10 2023', 'dataset_doi': '10.24432/C5B01C', 'creators': ['Jeffrey Schlimmer'], 'intro_paper': None, 'additional_info': {'summary': 'This data set consists of three types of entities: (a) the specification of an auto in terms of various characteristics, (b) its assigned insurance risk rating, (c) its normalized losses in use as compared to other cars.  The second rating corresponds to the degree to which the auto is more risky than its price indicates. Cars are initially assigned a risk factor symbol associated with its price.   Then, if it is more risky (or less), this symbol is adjusted by moving it up (or down) the scale.  Actuarians call this process \"symboling\".  A value of +3 indicates that the auto is risky, -3 that it is probably pretty safe.\\r\\n\\r\\nThe third factor is the relative average loss payment per insured vehicle year.  This value is normalized for all autos within a particular size classification (two-door small, station wagons, sports/speciality, etc...), and represents the average loss per car per year.\\r\\n\\r\\nNote: Several of the attributes in the database could be used as a \"class\" attribute.', 'purpose': None, 'funded_by': None, 'instances_represent': None, 'recommended_data_splits': None, 'sensitive_data': None, 'preprocessing_description': None, 'variable_info': 'Attribute: Attribute Range\\r\\n\\r\\n  1. symboling:                -3, -2, -1, 0, 1, 2, 3.\\r\\n  2. normalized-losses:        continuous from 65 to 256.\\r\\n  3. make:                     \\r\\n                               alfa-romero, audi, bmw, chevrolet, dodge, honda,\\r\\n                               isuzu, jaguar, mazda, mercedes-benz, mercury,\\r\\n                               mitsubishi, nissan, peugot, plymouth, porsche,\\r\\n                               renault, saab, subaru, toyota, volkswagen, volvo\\r\\n\\r\\n  4. fuel-type:                diesel, gas.\\r\\n  5. aspiration:               std, turbo.\\r\\n  6. num-of-doors:             four, two.\\r\\n  7. body-style:               hardtop, wagon, sedan, hatchback, convertible.\\r\\n  8. drive-wheels:             4wd, fwd, rwd.\\r\\n  9. engine-location:          front, rear.\\r\\n 10. wheel-base:               continuous from 86.6 120.9.\\r\\n 11. length:                   continuous from 141.1 to 208.1.\\r\\n 12. width:                    continuous from 60.3 to 72.3.\\r\\n 13. height:                   continuous from 47.8 to 59.8.\\r\\n 14. curb-weight:              continuous from 1488 to 4066.\\r\\n 15. engine-type:              dohc, dohcv, l, ohc, ohcf, ohcv, rotor.\\r\\n 16. num-of-cylinders:         eight, five, four, six, three, twelve, two.\\r\\n 17. engine-size:              continuous from 61 to 326.\\r\\n 18. fuel-system:              1bbl, 2bbl, 4bbl, idi, mfi, mpfi, spdi, spfi.\\r\\n 19. bore:                     continuous from 2.54 to 3.94.\\r\\n 20. stroke:                   continuous from 2.07 to 4.17.\\r\\n 21. compression-ratio:        continuous from 7 to 23.\\r\\n 22. horsepower:               continuous from 48 to 288.\\r\\n 23. peak-rpm:                 continuous from 4150 to 6600.\\r\\n 24. city-mpg:                 continuous from 13 to 49.\\r\\n 25. highway-mpg:              continuous from 16 to 54.\\r\\n 26. price:                    continuous from 5118 to 45400.', 'citation': None}}\n",
      "                 name     role         type demographic  \\\n",
      "0               price  Feature   Continuous        None   \n",
      "1         highway-mpg  Feature   Continuous        None   \n",
      "2            city-mpg  Feature   Continuous        None   \n",
      "3            peak-rpm  Feature   Continuous        None   \n",
      "4          horsepower  Feature   Continuous        None   \n",
      "5   compression-ratio  Feature   Continuous        None   \n",
      "6              stroke  Feature   Continuous        None   \n",
      "7                bore  Feature   Continuous        None   \n",
      "8         fuel-system  Feature  Categorical        None   \n",
      "9         engine-size  Feature   Continuous        None   \n",
      "10   num-of-cylinders  Feature      Integer        None   \n",
      "11        engine-type  Feature  Categorical        None   \n",
      "12        curb-weight  Feature   Continuous        None   \n",
      "13             height  Feature   Continuous        None   \n",
      "14              width  Feature   Continuous        None   \n",
      "15             length  Feature   Continuous        None   \n",
      "16         wheel-base  Feature   Continuous        None   \n",
      "17    engine-location  Feature       Binary        None   \n",
      "18       drive-wheels  Feature  Categorical        None   \n",
      "19         body-style  Feature  Categorical        None   \n",
      "20       num-of-doors  Feature      Integer        None   \n",
      "21         aspiration  Feature       Binary        None   \n",
      "22          fuel-type  Feature       Binary        None   \n",
      "23               make  Feature  Categorical        None   \n",
      "24  normalized-losses  Feature   Continuous        None   \n",
      "25          symboling   Target      Integer        None   \n",
      "\n",
      "                                          description units missing_values  \n",
      "0                       continuous from 5118 to 45400  None            yes  \n",
      "1                            continuous from 16 to 54  None             no  \n",
      "2                            continuous from 13 to 49  None             no  \n",
      "3                        continuous from 4150 to 6600  None            yes  \n",
      "4                           continuous from 48 to 288  None            yes  \n",
      "5                             continuous from 7 to 23  None             no  \n",
      "6                        continuous from 2.07 to 4.17  None            yes  \n",
      "7                        continuous from 2.54 to 3.94  None            yes  \n",
      "8        1bbl, 2bbl, 4bbl, idi, mfi, mpfi, spdi, spfi  None             no  \n",
      "9                           continuous from 61 to 326  None             no  \n",
      "10         eight, five, four, six, three, twelve, two  None             no  \n",
      "11             dohc, dohcv, l, ohc, ohcf, ohcv, rotor  None             no  \n",
      "12                       continuous from 1488 to 4066  None             no  \n",
      "13                       continuous from 47.8 to 59.8  None             no  \n",
      "14                       continuous from 60.3 to 72.3  None             no  \n",
      "15                     continuous from 141.1 to 208.1  None             no  \n",
      "16                         continuous from 86.6 120.9  None             no  \n",
      "17                                        front, rear  None             no  \n",
      "18                                      4wd, fwd, rwd  None             no  \n",
      "19      hardtop, wagon, sedan, hatchback, convertible  None             no  \n",
      "20                                          four, two  None            yes  \n",
      "21                                         std, turbo  None             no  \n",
      "22                                        diesel, gas  None             no  \n",
      "23  alfa-romero, audi, bmw, chevrolet, dodge, hond...  None             no  \n",
      "24                          continuous from 65 to 256  None            yes  \n",
      "25                             -3, -2, -1, 0, 1, 2, 3  None             no  \n"
     ]
    }
   ],
   "source": [
    "from ucimlrepo import fetch_ucirepo \n",
    "  \n",
    "# fetch dataset \n",
    "automobile = fetch_ucirepo(id=10) \n",
    "  \n",
    "# data (as pandas dataframes) \n",
    "dfX = automobile.data.features \n",
    "dfy = automobile.data.targets \n",
    "  \n",
    "# metadata \n",
    "print(automobile.metadata) \n",
    "  \n",
    "# variable information \n",
    "print(automobile.variables) "
   ]
  },
  {
   "cell_type": "code",
   "execution_count": 6,
   "id": "598530ec-3e17-4130-8594-f90b04a5e836",
   "metadata": {},
   "outputs": [
    {
     "data": {
      "text/html": [
       "<div>\n",
       "<style scoped>\n",
       "    .dataframe tbody tr th:only-of-type {\n",
       "        vertical-align: middle;\n",
       "    }\n",
       "\n",
       "    .dataframe tbody tr th {\n",
       "        vertical-align: top;\n",
       "    }\n",
       "\n",
       "    .dataframe thead th {\n",
       "        text-align: right;\n",
       "    }\n",
       "</style>\n",
       "<table border=\"1\" class=\"dataframe\">\n",
       "  <thead>\n",
       "    <tr style=\"text-align: right;\">\n",
       "      <th></th>\n",
       "      <th>price</th>\n",
       "      <th>highway-mpg</th>\n",
       "      <th>city-mpg</th>\n",
       "      <th>peak-rpm</th>\n",
       "      <th>horsepower</th>\n",
       "      <th>compression-ratio</th>\n",
       "      <th>stroke</th>\n",
       "      <th>bore</th>\n",
       "      <th>fuel-system</th>\n",
       "      <th>engine-size</th>\n",
       "      <th>...</th>\n",
       "      <th>length</th>\n",
       "      <th>wheel-base</th>\n",
       "      <th>engine-location</th>\n",
       "      <th>drive-wheels</th>\n",
       "      <th>body-style</th>\n",
       "      <th>num-of-doors</th>\n",
       "      <th>aspiration</th>\n",
       "      <th>fuel-type</th>\n",
       "      <th>make</th>\n",
       "      <th>normalized-losses</th>\n",
       "    </tr>\n",
       "  </thead>\n",
       "  <tbody>\n",
       "    <tr>\n",
       "      <th>0</th>\n",
       "      <td>13495.0</td>\n",
       "      <td>27</td>\n",
       "      <td>21</td>\n",
       "      <td>5000.0</td>\n",
       "      <td>111.0</td>\n",
       "      <td>9.0</td>\n",
       "      <td>2.68</td>\n",
       "      <td>3.47</td>\n",
       "      <td>mpfi</td>\n",
       "      <td>130</td>\n",
       "      <td>...</td>\n",
       "      <td>168.8</td>\n",
       "      <td>88.6</td>\n",
       "      <td>front</td>\n",
       "      <td>rwd</td>\n",
       "      <td>convertible</td>\n",
       "      <td>2.0</td>\n",
       "      <td>std</td>\n",
       "      <td>gas</td>\n",
       "      <td>alfa-romero</td>\n",
       "      <td>NaN</td>\n",
       "    </tr>\n",
       "    <tr>\n",
       "      <th>1</th>\n",
       "      <td>16500.0</td>\n",
       "      <td>27</td>\n",
       "      <td>21</td>\n",
       "      <td>5000.0</td>\n",
       "      <td>111.0</td>\n",
       "      <td>9.0</td>\n",
       "      <td>2.68</td>\n",
       "      <td>3.47</td>\n",
       "      <td>mpfi</td>\n",
       "      <td>130</td>\n",
       "      <td>...</td>\n",
       "      <td>168.8</td>\n",
       "      <td>88.6</td>\n",
       "      <td>front</td>\n",
       "      <td>rwd</td>\n",
       "      <td>convertible</td>\n",
       "      <td>2.0</td>\n",
       "      <td>std</td>\n",
       "      <td>gas</td>\n",
       "      <td>alfa-romero</td>\n",
       "      <td>NaN</td>\n",
       "    </tr>\n",
       "    <tr>\n",
       "      <th>2</th>\n",
       "      <td>16500.0</td>\n",
       "      <td>26</td>\n",
       "      <td>19</td>\n",
       "      <td>5000.0</td>\n",
       "      <td>154.0</td>\n",
       "      <td>9.0</td>\n",
       "      <td>3.47</td>\n",
       "      <td>2.68</td>\n",
       "      <td>mpfi</td>\n",
       "      <td>152</td>\n",
       "      <td>...</td>\n",
       "      <td>171.2</td>\n",
       "      <td>94.5</td>\n",
       "      <td>front</td>\n",
       "      <td>rwd</td>\n",
       "      <td>hatchback</td>\n",
       "      <td>2.0</td>\n",
       "      <td>std</td>\n",
       "      <td>gas</td>\n",
       "      <td>alfa-romero</td>\n",
       "      <td>NaN</td>\n",
       "    </tr>\n",
       "    <tr>\n",
       "      <th>3</th>\n",
       "      <td>13950.0</td>\n",
       "      <td>30</td>\n",
       "      <td>24</td>\n",
       "      <td>5500.0</td>\n",
       "      <td>102.0</td>\n",
       "      <td>10.0</td>\n",
       "      <td>3.40</td>\n",
       "      <td>3.19</td>\n",
       "      <td>mpfi</td>\n",
       "      <td>109</td>\n",
       "      <td>...</td>\n",
       "      <td>176.6</td>\n",
       "      <td>99.8</td>\n",
       "      <td>front</td>\n",
       "      <td>fwd</td>\n",
       "      <td>sedan</td>\n",
       "      <td>4.0</td>\n",
       "      <td>std</td>\n",
       "      <td>gas</td>\n",
       "      <td>audi</td>\n",
       "      <td>164.0</td>\n",
       "    </tr>\n",
       "    <tr>\n",
       "      <th>4</th>\n",
       "      <td>17450.0</td>\n",
       "      <td>22</td>\n",
       "      <td>18</td>\n",
       "      <td>5500.0</td>\n",
       "      <td>115.0</td>\n",
       "      <td>8.0</td>\n",
       "      <td>3.40</td>\n",
       "      <td>3.19</td>\n",
       "      <td>mpfi</td>\n",
       "      <td>136</td>\n",
       "      <td>...</td>\n",
       "      <td>176.6</td>\n",
       "      <td>99.4</td>\n",
       "      <td>front</td>\n",
       "      <td>4wd</td>\n",
       "      <td>sedan</td>\n",
       "      <td>4.0</td>\n",
       "      <td>std</td>\n",
       "      <td>gas</td>\n",
       "      <td>audi</td>\n",
       "      <td>164.0</td>\n",
       "    </tr>\n",
       "  </tbody>\n",
       "</table>\n",
       "<p>5 rows × 25 columns</p>\n",
       "</div>"
      ],
      "text/plain": [
       "     price  highway-mpg  city-mpg  peak-rpm  horsepower  compression-ratio  \\\n",
       "0  13495.0           27        21    5000.0       111.0                9.0   \n",
       "1  16500.0           27        21    5000.0       111.0                9.0   \n",
       "2  16500.0           26        19    5000.0       154.0                9.0   \n",
       "3  13950.0           30        24    5500.0       102.0               10.0   \n",
       "4  17450.0           22        18    5500.0       115.0                8.0   \n",
       "\n",
       "   stroke  bore fuel-system  engine-size  ...  length wheel-base  \\\n",
       "0    2.68  3.47        mpfi          130  ...   168.8       88.6   \n",
       "1    2.68  3.47        mpfi          130  ...   168.8       88.6   \n",
       "2    3.47  2.68        mpfi          152  ...   171.2       94.5   \n",
       "3    3.40  3.19        mpfi          109  ...   176.6       99.8   \n",
       "4    3.40  3.19        mpfi          136  ...   176.6       99.4   \n",
       "\n",
       "   engine-location  drive-wheels   body-style  num-of-doors  aspiration  \\\n",
       "0            front           rwd  convertible           2.0         std   \n",
       "1            front           rwd  convertible           2.0         std   \n",
       "2            front           rwd    hatchback           2.0         std   \n",
       "3            front           fwd        sedan           4.0         std   \n",
       "4            front           4wd        sedan           4.0         std   \n",
       "\n",
       "  fuel-type         make normalized-losses  \n",
       "0       gas  alfa-romero               NaN  \n",
       "1       gas  alfa-romero               NaN  \n",
       "2       gas  alfa-romero               NaN  \n",
       "3       gas         audi             164.0  \n",
       "4       gas         audi             164.0  \n",
       "\n",
       "[5 rows x 25 columns]"
      ]
     },
     "execution_count": 6,
     "metadata": {},
     "output_type": "execute_result"
    }
   ],
   "source": [
    "dfX.head(5)"
   ]
  },
  {
   "cell_type": "markdown",
   "id": "0526dd76-3d6f-4ee6-b13e-dae3d7c32bec",
   "metadata": {},
   "source": [
    "### Fetching Directly with pandas\n",
    "\n",
    "Alternatively, we can use direct link to the file with set of pandas functions:\n",
    "- read_csv()\n",
    "- read_json()\n",
    "- read_html()\n",
    "- read_sql()\n",
    "- read_pickle()\n",
    "Similarly, a dataframe can be written to these file formats:\n",
    "- to_csv()\n",
    "- to_json()\n",
    "- to_html()\n",
    "- to_pickle()\n"
   ]
  },
  {
   "cell_type": "code",
   "execution_count": null,
   "id": "b513ce65-8dfe-4173-894a-c98fec93a508",
   "metadata": {},
   "outputs": [],
   "source": [
    "url_names = 'https://archive.ics.uci.edu/ml/machine-learning-databases/autos/imports-85.names'\n",
    "url_data = 'https://archive.ics.uci.edu/ml/machine-learning-databases/autos/imports-85.data'\n",
    "df_names = pd.read_csv(url_names, header=None)\n",
    "df_cars = pd.read_csv(url_data, header=None)\n",
    "df_cars.columns = df_names\n",
    "df_cars.to_csv('autos_85.csv')"
   ]
  },
  {
   "cell_type": "markdown",
   "id": "b3e9020a-a830-4201-bfd7-a2d91b61c6a4",
   "metadata": {},
   "source": [
    "### Using urllib\n",
    "\n",
    "We can use urllib to pull the csv file and save it locally for future use:"
   ]
  },
  {
   "cell_type": "code",
   "execution_count": 2,
   "id": "10365caa-4302-4885-8e60-826dd43a030a",
   "metadata": {},
   "outputs": [],
   "source": [
    "url = 'https://archive.ics.uci.edu/static/public/10/data.csv'\n",
    "filename = 'automobiles.csv'"
   ]
  },
  {
   "cell_type": "code",
   "execution_count": 9,
   "id": "08e1bc74-4ecc-403f-8eae-049f87f6b8c2",
   "metadata": {},
   "outputs": [
    {
     "data": {
      "text/plain": [
       "('autos_85.csv', <http.client.HTTPMessage at 0x731198ffd0>)"
      ]
     },
     "execution_count": 9,
     "metadata": {},
     "output_type": "execute_result"
    }
   ],
   "source": [
    "from urllib.request import urlretrieve\n",
    "path, headers = urlretrieve(url, filename)"
   ]
  },
  {
   "cell_type": "code",
   "execution_count": null,
   "id": "91ec1eb4-33cf-4beb-86b2-f51e26520a76",
   "metadata": {},
   "outputs": [],
   "source": [
    "for field, value in headers:\n",
    "    print(f'{field}: {value}')"
   ]
  },
  {
   "cell_type": "code",
   "execution_count": 3,
   "id": "fbe2ae41-4cd1-4622-af25-0664741da627",
   "metadata": {},
   "outputs": [
    {
     "name": "stdout",
     "output_type": "stream",
     "text": [
      "\u001b[0;0mautos_85.csv\u001b[m\n"
     ]
    }
   ],
   "source": [
    "%ls *.csv\n"
   ]
  },
  {
   "cell_type": "markdown",
   "id": "82c41888-af67-4316-83fc-ab80745fb090",
   "metadata": {},
   "source": [
    "### Using Third-party packages\n",
    "\n",
    "There are quite a few 3rd party packages to reliably fetch remote files synchronous and asunchronously. \n",
    "\n",
    "`requests` is a well-known package in data extraction. It provides a uniform interface to fetch data synchronously over HTTP protocol.\n",
    "\n",
    "Some of the famous asynchronous HTTP request"
   ]
  },
  {
   "cell_type": "markdown",
   "id": "b49b93ca-324c-41b4-8848-0a932a31e345",
   "metadata": {},
   "source": [
    "**Downloading a Large File in a Streaming Fashion**\n",
    "\n",
    "If your project requires downloading a larger file, then you may run into issues trying to load the entire file into memory. To avoid this we can download large files in a streaming fashion with `urllib.response.iter_content`"
   ]
  },
  {
   "cell_type": "code",
   "execution_count": 3,
   "id": "f117e704-249d-42eb-8d18-e95984c450f5",
   "metadata": {},
   "outputs": [],
   "source": [
    "import requests\n",
    "def stream_fetch(filename, path):\n",
    "    response = requests.get(path, stream=True)\n",
    "    total_size_in_bytes= int(response.headers.get('content-length', 0))\n",
    "    block_size = 1024 #1 Kibibyte\n",
    "    progress_bar = tqdm(total=total_size_in_bytes, unit='iB', unit_scale=True)\n",
    "    with open(filename, mode=\"wb\") as file:     \n",
    "        for chunk in response.iter_content(chunk_size=block_size):\n",
    "            progress_bar.update(len(chunk))\n",
    "            file.write(chunk)\n",
    "    progress_bar.close()\n",
    "    if total_size_in_bytes != 0 and progress_bar.n != total_size_in_bytes:\n",
    "        print(\"ERROR, something went wrong\")"
   ]
  },
  {
   "cell_type": "code",
   "execution_count": 4,
   "id": "1aa0ebbd-4068-4ecc-b082-19e8512bc395",
   "metadata": {},
   "outputs": [
    {
     "name": "stderr",
     "output_type": "stream",
     "text": [
      "24.1kiB [00:00, 98.3kiB/s]\n"
     ]
    }
   ],
   "source": [
    "stream_fetch(filename, url)"
   ]
  },
  {
   "cell_type": "code",
   "execution_count": 5,
   "id": "e30c8d1a-4b6f-409e-b94c-c816cc330f13",
   "metadata": {},
   "outputs": [
    {
     "name": "stdout",
     "output_type": "stream",
     "text": [
      "total 176K   \n",
      "-rw-rw----    1 u0_a201  media_rw  101.1K Oct 19 18:27 \u001b[0;0mDA0101EN-Review-Introduction.jupyterlite.ipynb\u001b[m\n",
      "-rw-rw----    1 u0_a201  media_rw   23.5K Oct 23 15:30 \u001b[0;0mautomobiles.csv\u001b[m\n",
      "-rw-rw----    1 u0_a201  media_rw   23.5K Oct 19 17:18 \u001b[0;0mautos_85.csv\u001b[m\n",
      "-rw-rw----    1 u0_a201  media_rw   23.1K Oct 23 15:30 \u001b[0;0mibm-analyze-data.ipynb\u001b[m\n"
     ]
    }
   ],
   "source": [
    "%ls -lh"
   ]
  }
 ],
 "metadata": {
  "kernelspec": {
   "display_name": "Python 3 (ipykernel)",
   "language": "python",
   "name": "python3"
  },
  "language_info": {
   "codemirror_mode": {
    "name": "ipython",
    "version": 3
   },
   "file_extension": ".py",
   "mimetype": "text/x-python",
   "name": "python",
   "nbconvert_exporter": "python",
   "pygments_lexer": "ipython3",
   "version": "3.9.7"
  }
 },
 "nbformat": 4,
 "nbformat_minor": 5
}
